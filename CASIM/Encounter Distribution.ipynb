{
 "cells": [
  {
   "cell_type": "code",
   "execution_count": 1,
   "metadata": {},
   "outputs": [],
   "source": [
    "import numpy as np\n",
    "from matplotlib import rc\n",
    "# rc('font',**{'family':'serif'})\n",
    "# plt.style.use(\"ggplot\")\n",
    "\n",
    "from matplotlib2tikz import save as tikz_save"
   ]
  },
  {
   "cell_type": "code",
   "execution_count": 2,
   "metadata": {},
   "outputs": [],
   "source": [
    "numIntCategories = ['1','2','3','4','5','6 or more']"
   ]
  },
  {
   "cell_type": "code",
   "execution_count": 3,
   "metadata": {},
   "outputs": [],
   "source": [
    "CASNames = ['No CAS', 'VICASMulti', 'VICASClosest', 'correctedSector', 'correctedClosest']"
   ]
  },
  {
   "cell_type": "code",
   "execution_count": 22,
   "metadata": {},
   "outputs": [],
   "source": [
    "distributions_4000 = np.array([[0.0812906, 0.109314, 0.128756, 0.134528, 0.130474, 0.415637],\n",
    "[0.0506228, 0.0245197, 0.028262, 0.0314687, 0.0355953, 0.829532],\n",
    "[0.0776443, 0.0914982, 0.106819, 0.115997, 0.118292, 0.489749],\n",
    "[0.0815799, 0.0686113, 0.0824082, 0.0914616, 0.0975578, 0.578381],\n",
    "[0.0803869, 0.0590567, 0.0697939, 0.0783522, 0.0861321, 0.626278]])"
   ]
  },
  {
   "cell_type": "code",
   "execution_count": 5,
   "metadata": {},
   "outputs": [],
   "source": [
    "import matplotlib.pyplot as plt"
   ]
  },
  {
   "cell_type": "code",
   "execution_count": 12,
   "metadata": {},
   "outputs": [],
   "source": [
    "N, K = distributions_4000.shape"
   ]
  },
  {
   "cell_type": "code",
   "execution_count": 8,
   "metadata": {},
   "outputs": [],
   "source": [
    "ind = np.arange(N)"
   ]
  },
  {
   "cell_type": "code",
   "execution_count": 9,
   "metadata": {},
   "outputs": [],
   "source": [
    "width = 0.5"
   ]
  },
  {
   "cell_type": "code",
   "execution_count": 25,
   "metadata": {},
   "outputs": [
    {
     "name": "stdout",
     "output_type": "stream",
     "text": [
      "=========================================================\n",
      "Please add the following lines to your LaTeX preamble:\n",
      "\n",
      "\\usepackage[utf8]{inputenc}\n",
      "\\usepackage{fontspec} % This line only for XeLaTeX and LuaLaTeX\n",
      "\\usepackage{pgfplots}\n",
      "=========================================================\n",
      "Horizontal alignment will be ignored as no 'x tick label text width' has been passed in the 'extra' parameter\n",
      "Horizontal alignment will be ignored as no 'y tick label text width' has been passed in the 'extra' parameter\n"
     ]
    },
    {
     "data": {
      "image/png": "[encoded data removed]",
      "text/plain": [
       "<Figure size 720x288 with 1 Axes>"
      ]
     },
     "metadata": {},
     "output_type": "display_data"
    }
   ],
   "source": [
    "fig = plt.gcf()\n",
    "fig.set_size_inches(10, 4)\n",
    "plots = []\n",
    "height_cumulative = np.zeros(N)\n",
    "for k in range(K):\n",
    "    color = plt.cm.coolwarm(k/K, 1)\n",
    "    if k == 0:\n",
    "        p = plt.bar(ind, distributions_4000[:, k], width, color=color)\n",
    "    else:\n",
    "        p = plt.bar(ind, distributions_4000[:, k], width, bottom=height_cumulative, color=color)\n",
    "    height_cumulative += distributions_4000[:, k]\n",
    "    plots.append(p)\n",
    "\n",
    "plt.ylabel('Distribution')\n",
    "plt.xticks(ind+width/2-0.25, CASNames)\n",
    "plt.ylim((0, 1))\n",
    "plt.legend([p[0] for p in plots], numIntCategories, \n",
    "           loc=\"center left\", bbox_to_anchor=(1.05, 0.2), \n",
    "           fancybox=False, edgecolor='black', shadow=False)\n",
    "\n",
    "tikz_save('distributions_4000.tex')"
   ]
  },
  {
   "cell_type": "code",
   "execution_count": 26,
   "metadata": {},
   "outputs": [
    {
     "name": "stdout",
     "output_type": "stream",
     "text": [
      "=========================================================\n",
      "Please add the following lines to your LaTeX preamble:\n",
      "\n",
      "\\usepackage[utf8]{inputenc}\n",
      "\\usepackage{fontspec} % This line only for XeLaTeX and LuaLaTeX\n",
      "\\usepackage{pgfplots}\n",
      "=========================================================\n",
      "Horizontal alignment will be ignored as no 'x tick label text width' has been passed in the 'extra' parameter\n",
      "Horizontal alignment will be ignored as no 'y tick label text width' has been passed in the 'extra' parameter\n"
     ]
    },
    {
     "data": {
      "image/png": "[encoded data removed]",
      "text/plain": [
       "<Figure size 720x288 with 1 Axes>"
      ]
     },
     "metadata": {},
     "output_type": "display_data"
    }
   ],
   "source": [
    "distributions_500 = np.array([[0.561053, 0.222376, 0.0886057, 0.0460747, 0.0307196, 0.0511712],\n",
    "[0.531042, 0.220971, 0.0904591, 0.0506961, 0.0339538, 0.0728778],\n",
    "[0.55409, 0.219603, 0.0872833, 0.0471457, 0.033033, 0.0588449],\n",
    "[0.550466, 0.213034, 0.0888232, 0.0475631, 0.0317359, 0.0683779],\n",
    "[0.541919, 0.22009, 0.0858668, 0.0474821, 0.0341618, 0.0704802]])\n",
    "\n",
    "fig = plt.gcf()\n",
    "fig.set_size_inches(10, 4)\n",
    "plots = []\n",
    "height_cumulative = np.zeros(N)\n",
    "for k in range(K):\n",
    "    color = plt.cm.coolwarm(k/K, 1)\n",
    "    if k == 0:\n",
    "        p = plt.bar(ind, distributions_500[:, k], width, color=color)\n",
    "    else:\n",
    "        p = plt.bar(ind, distributions_500[:, k], width, bottom=height_cumulative, color=color)\n",
    "    height_cumulative += distributions_500[:, k]\n",
    "    plots.append(p)\n",
    "\n",
    "plt.ylabel('Distribution')\n",
    "plt.xticks(ind+width/2-0.25, CASNames)\n",
    "plt.ylim((0, 1))\n",
    "plt.legend([p[0] for p in plots], numIntCategories, \n",
    "           loc=\"center left\", bbox_to_anchor=(1.05, 0.2), \n",
    "           fancybox=False, edgecolor='black', shadow=False)\n",
    "\n",
    "tikz_save('distributions_500.tex')"
   ]
  },
  {
   "cell_type": "code",
   "execution_count": null,
   "metadata": {},
   "outputs": [],
   "source": []
  }
 ],
 "metadata": {
  "kernelspec": {
   "display_name": "base py3",
   "language": "python",
   "name": "python3"
  },
  "language_info": {
   "codemirror_mode": {
    "name": "ipython",
    "version": 3
   },
   "file_extension": ".py",
   "mimetype": "text/x-python",
   "name": "python",
   "nbconvert_exporter": "python",
   "pygments_lexer": "ipython3",
   "version": "3.7.4"
  }
 },
 "nbformat": 4,
 "nbformat_minor": 2
}
