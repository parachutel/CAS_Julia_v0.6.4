{
 "cells": [
  {
   "cell_type": "code",
   "execution_count": 5,
   "metadata": {},
   "outputs": [
    {
     "data": {
      "text/plain": [
       "resRatio (generic function with 1 method)"
      ]
     },
     "execution_count": 5,
     "metadata": {},
     "output_type": "execute_result"
    }
   ],
   "source": [
    "include(\"resRatio.jl\")"
   ]
  },
  {
   "cell_type": "code",
   "execution_count": 10,
   "metadata": {},
   "outputs": [],
   "source": [
    "using PGFPlots"
   ]
  },
  {
   "cell_type": "markdown",
   "metadata": {},
   "source": [
    "## NOCAS"
   ]
  },
  {
   "cell_type": "code",
   "execution_count": 25,
   "metadata": {},
   "outputs": [
    {
     "name": "stdout",
     "output_type": "stream",
     "text": [
      "2, NMAC mean: 0.31200, criticality mean: 0.19792, v_eff mean: 1.0000\n",
      "   NMAC ste:  0.02074, criticality ste:  0.00739, v_eff ste:  0.0000\n",
      "\n",
      "3, NMAC mean: 0.70400, criticality mean: 0.20378, v_eff mean: 1.0000\n",
      "   NMAC ste:  0.02073, criticality ste:  0.00748, v_eff ste:  0.0000\n",
      "\n",
      "4, NMAC mean: 0.92000, criticality mean: 0.19129, v_eff mean: 1.0000\n",
      "   NMAC ste:  0.01347, criticality ste:  0.00721, v_eff ste:  0.0000\n",
      "\n",
      "5, NMAC mean: 1.00800, criticality mean: 0.18721, v_eff mean: 1.0000\n",
      "   NMAC ste:  0.00800, criticality ste:  0.00748, v_eff ste:  0.0000\n",
      "\n",
      "6, NMAC mean: 1.02400, criticality mean: 0.18072, v_eff mean: 1.0000\n",
      "   NMAC ste:  0.00574, criticality ste:  0.00732, v_eff ste:  0.0000\n",
      "\n",
      "7, NMAC mean: 1.03100, criticality mean: 0.17522, v_eff mean: 1.0000\n",
      "   NMAC ste:  0.00701, criticality ste:  0.00725, v_eff ste:  0.0000\n",
      "\n"
     ]
    }
   ],
   "source": [
    "numSim = 500\n",
    "for i in 2:7\n",
    "    resolvedStats, unresolved_NMAC_Stats, unresolved_Timeout_Stats, avgResTime, criticality, v_eff = resRatio(;\n",
    "        CASType=:NOCAS,\n",
    "        policyFile=\"LOWFI_mid3_maxdist_2km_nmac_150m_Discount_0.95_ActWeight_0.5_IfSample_false_PenAction_3.0_PenConflict_50.0_PenCloseness_500.0_PenNmac_7000.0_Sigma_v_5.0_alert_5.0_theta_3.0_phi_7.0_coc_3.0_2018-11-13T18\\:55\\:43.491\",\n",
    "        numAC=i,\n",
    "        numSim=numSim,\n",
    "        timeout=300)\n",
    "    \n",
    "    @printf(\"%d, NMAC mean: %3.5f, criticality mean: %3.5f, v_eff mean: %3.4f\\n\", \n",
    "        i, mean(unresolved_NMAC_Stats), mean(criticality), mean(v_eff))\n",
    "    @printf(\"   NMAC ste:  %3.5f, criticality ste:  %3.5f, v_eff ste:  %3.4f\\n\\n\", \n",
    "        std(unresolved_NMAC_Stats) / sqrt(numSim), std(criticality) / sqrt(numSim), std(v_eff) / sqrt(numSim))\n",
    "end\n",
    "\n",
    "# 2 Success: 0.949,  NMAC: 0.051, Timeout: 0.0, 70.91886195995785\n",
    "# 3 Success: 0.8512, NMAC: 0.1488, Timeout: 0.0, 74.87382518796993\n",
    "# 4 Success: 0.7248, NMAC: 0.2752, Timeout: 0.0, 77.37996688741723\n",
    "# 5 Success: 0.5636, NMAC: 0.4364, Timeout: 0.0, 79.13662171753016\n",
    "# 6 Success: 0.4326, NMAC: 0.5674, Timeout: 0.0, 80.40684234858992\n",
    "# 7 Success: 0.3196, NMAC: 0.6804, Timeout: 0.0, 80.85356695869838\n"
   ]
  },
  {
   "cell_type": "code",
   "execution_count": 27,
   "metadata": {},
   "outputs": [
    {
     "name": "stdout",
     "output_type": "stream",
     "text": [
      "0.1894$\\pm$0.0043"
     ]
    }
   ],
   "source": [
    "severity = [0.19792, 0.20378, 0.19129, 0.18721, 0.18072, 0.17522]\n",
    "@printf(\"%3.4f\\$\\\\pm\\$%3.4f\", mean(severity), std(severity) / sqrt(6))"
   ]
  },
  {
   "cell_type": "markdown",
   "metadata": {},
   "source": [
    "## correctedSector"
   ]
  },
  {
   "cell_type": "code",
   "execution_count": 21,
   "metadata": {},
   "outputs": [
    {
     "name": "stdout",
     "output_type": "stream",
     "text": [
      "2, NMAC mean: 0.00050, criticality mean: 0.17258, v_eff mean: 0.9376\n",
      "   NMAC ste:  0.00050, criticality ste:  0.00000, v_eff ste:  0.0066\n",
      "\n",
      "3, NMAC mean: 0.00200, criticality mean: 0.12684, v_eff mean: 0.8740\n",
      "   NMAC ste:  0.00100, criticality ste:  0.00149, v_eff ste:  0.0092\n",
      "\n",
      "4, NMAC mean: 0.01050, criticality mean: 0.18258, v_eff mean: 0.8372\n",
      "   NMAC ste:  0.00228, criticality ste:  0.00365, v_eff ste:  0.0103\n",
      "\n",
      "5, NMAC mean: 0.03100, criticality mean: 0.17300, v_eff mean: 0.8219\n",
      "   NMAC ste:  0.00388, criticality ste:  0.00319, v_eff ste:  0.0106\n",
      "\n",
      "6, NMAC mean: 0.08000, criticality mean: 0.18825, v_eff mean: 0.8013\n",
      "   NMAC ste:  0.00607, criticality ste:  0.00356, v_eff ste:  0.0111\n",
      "\n",
      "7, NMAC mean: 0.16100, criticality mean: 0.17739, v_eff mean: 0.7870\n",
      "   NMAC ste:  0.00825, criticality ste:  0.00339, v_eff ste:  0.0114\n",
      "\n"
     ]
    }
   ],
   "source": [
    "numSim = 2000\n",
    "for i in 2:7\n",
    "    if i <= 4\n",
    "        correction_weight = 0.02\n",
    "    else\n",
    "        correction_weight = 0.02\n",
    "    end\n",
    "    resolvedStats, unresolved_NMAC_Stats, unresolved_Timeout_Stats, avgResTime, criticality, v_eff = resRatio(;\n",
    "        CASType=:correctedSector,\n",
    "        policyFile=\"LOWFI_mid3_maxdist_2km_nmac_150m_Discount_0.95_ActWeight_0.5_IfSample_false_PenAction_3.0_PenConflict_50.0_PenCloseness_500.0_PenNmac_7000.0_Sigma_v_5.0_alert_5.0_theta_3.0_phi_7.0_coc_3.0_2018-11-13T18\\:55\\:43.491\",\n",
    "        numAC=i,\n",
    "        numSim=numSim,\n",
    "        timeout=300,\n",
    "        correction_weight=correction_weight)\n",
    "    \n",
    "    @printf(\"%d, NMAC mean: %3.5f, criticality mean: %3.5f, v_eff mean: %3.4f\\n\", \n",
    "        i, mean(unresolved_NMAC_Stats), mean(criticality), mean(v_eff))\n",
    "    @printf(\"   NMAC ste:  %3.5f, criticality ste:  %3.5f, v_eff ste:  %3.4f\\n\\n\", \n",
    "        std(unresolved_NMAC_Stats) / sqrt(numSim), std(criticality) / sqrt(numSim), std(v_eff) / sqrt(numSim))\n",
    "end\n",
    "\n",
    "# 2 Success: 0.993, NMAC: 0.004, Timeout: 0.003, 71.79456193353474\n",
    "# 3 Success: 0.973, NMAC: 0.014, Timeout: 0.013, 78.63412127440904\n",
    "# 4 Success: 0.953, NMAC: 0.03, Timeout: 0.017, 83.1825813221406\n",
    "# 5 Success: 0.918, NMAC: 0.05, Timeout: 0.032, 88.52614379084967\n",
    "# 6 Success: 0.861, NMAC: 0.0969030969030969, Timeout: 0.04195804195804196, 90.95475638051045\n",
    "# 7 Success: 0.823, NMAC: 0.137, Timeout: 0.04, 98.70473876063184\n",
    "\n",
    "# 2 Success: 0.982, NMAC: 0.002, Timeout: 0.016, criticality: 0.4953246038639223,  v_eff: 0.9386237787773495\n",
    "# 3 Success: 0.952, NMAC: 0.004, Timeout: 0.044, criticality: 0.1096830602016613,  v_eff: 0.8731084888865573\n",
    "# 4 Success: 0.896, NMAC: 0.008, Timeout: 0.096, criticality: 0.27897008287705505, v_eff: 0.8375079369785154\n",
    "# 5 Success: 0.852, NMAC: 0.036, Timeout: 0.112, criticality: 0.24101188060038478, v_eff: 0.8340624834206053\n",
    "# 6 Success: 0.755, NMAC: 0.078, Timeout: 0.167, criticality: 0.19848172737007722, v_eff: 0.7902792451975552\n",
    "# 7 Success: 0.682, NMAC: 0.156, Timeout: 0.162, criticality: 0.18322716088070032, v_eff: 0.7852630496971468\n"
   ]
  },
  {
   "cell_type": "code",
   "execution_count": 28,
   "metadata": {},
   "outputs": [
    {
     "name": "stdout",
     "output_type": "stream",
     "text": [
      "0.1701$\\pm$0.0090"
     ]
    }
   ],
   "source": [
    "severity = [0.17258, 0.12684, 0.18258, 0.17300, 0.18825, 0.17739]\n",
    "@printf(\"%3.4f\\$\\\\pm\\$%3.4f\", mean(severity), std(severity) / sqrt(6))"
   ]
  },
  {
   "cell_type": "code",
   "execution_count": 24,
   "metadata": {},
   "outputs": [
    {
     "name": "stdout",
     "output_type": "stream",
     "text": [
      "2, NMAC mean: 0.00100, criticality mean: 0.21645, v_eff mean: 0.8985\n",
      "   NMAC ste:  0.00100, criticality ste:  0.00000, v_eff ste:  0.0122\n",
      "\n",
      "3, NMAC mean: 0.00100, criticality mean: 0.24309, v_eff mean: 0.7975\n",
      "   NMAC ste:  0.00100, criticality ste:  0.00000, v_eff ste:  0.0165\n",
      "\n",
      "4, NMAC mean: 0.01100, criticality mean: 0.18865, v_eff mean: 0.7435\n",
      "   NMAC ste:  0.00330, criticality ste:  0.00544, v_eff ste:  0.0180\n",
      "\n",
      "5, NMAC mean: 0.02300, criticality mean: 0.21243, v_eff mean: 0.7153\n",
      "   NMAC ste:  0.00474, criticality ste:  0.00689, v_eff ste:  0.0188\n",
      "\n",
      "6, NMAC mean: 0.05200, criticality mean: 0.14324, v_eff mean: 0.6956\n",
      "   NMAC ste:  0.00702, criticality ste:  0.00398, v_eff ste:  0.0192\n",
      "\n",
      "7, NMAC mean: 0.12800, criticality mean: 0.18127, v_eff mean: 0.6694\n",
      "   NMAC ste:  0.01057, criticality ste:  0.00504, v_eff ste:  0.0198\n",
      "\n"
     ]
    }
   ],
   "source": [
    "numSim = 1000\n",
    "for i in 2:7\n",
    "    if i <= 4\n",
    "        correction_weight = 0.005\n",
    "    else\n",
    "        correction_weight = 0.005\n",
    "    end\n",
    "    resolvedStats, unresolved_NMAC_Stats, unresolved_Timeout_Stats, avgResTime, criticality, v_eff = resRatio(;\n",
    "        CASType=:correctedSector,\n",
    "        policyFile=\"LOWFI_mid3_maxdist_2km_nmac_150m_Discount_0.95_ActWeight_0.5_IfSample_false_PenAction_3.0_PenConflict_50.0_PenCloseness_500.0_PenNmac_7000.0_Sigma_v_5.0_alert_5.0_theta_3.0_phi_7.0_coc_3.0_2018-11-13T18\\:55\\:43.491\",\n",
    "        numAC=i,\n",
    "        numSim=numSim,\n",
    "        timeout=300,\n",
    "        correction_weight=correction_weight)\n",
    "    \n",
    "    @printf(\"%d, NMAC mean: %3.5f, criticality mean: %3.5f, v_eff mean: %3.4f\\n\", \n",
    "        i, mean(unresolved_NMAC_Stats), mean(criticality), mean(v_eff))\n",
    "    @printf(\"   NMAC ste:  %3.5f, criticality ste:  %3.5f, v_eff ste:  %3.4f\\n\\n\", \n",
    "        std(unresolved_NMAC_Stats) / sqrt(numSim), std(criticality) / sqrt(numSim), std(v_eff) / sqrt(numSim))\n",
    "end\n"
   ]
  },
  {
   "cell_type": "code",
   "execution_count": null,
   "metadata": {},
   "outputs": [],
   "source": [
    "severity = [0.17258, 0.12684, 0.18258, 0.17300, 0.18825, 0.17739]\n",
    "@printf(\"%3.4f\\$\\\\pm\\$%3.4f\", mean(severity), std(severity) / sqrt(6))"
   ]
  },
  {
   "cell_type": "markdown",
   "metadata": {},
   "source": [
    "## correctedClosest"
   ]
  },
  {
   "cell_type": "code",
   "execution_count": 37,
   "metadata": {},
   "outputs": [
    {
     "name": "stdout",
     "output_type": "stream",
     "text": [
      "2, NMAC mean: 0.00000, criticality mean: NaN, v_eff mean: 0.8959\n",
      "   NMAC ste:  0.00000, criticality ste:  NaN, v_eff ste:  0.0179\n",
      "\n",
      "3, NMAC mean: 0.00000, criticality mean: NaN, v_eff mean: 0.8460\n",
      "   NMAC ste:  0.00000, criticality ste:  NaN, v_eff ste:  0.0215\n",
      "\n",
      "4, NMAC mean: 0.00000, criticality mean: NaN, v_eff mean: 0.7807\n",
      "   NMAC ste:  0.00000, criticality ste:  NaN, v_eff ste:  0.0250\n",
      "\n",
      "5, NMAC mean: 0.00400, criticality mean: 0.21279, v_eff mean: 0.7584\n",
      "   NMAC ste:  0.00283, criticality ste:  0.00304, v_eff ste:  0.0260\n",
      "\n",
      "6, NMAC mean: 0.00400, criticality mean: 0.30082, v_eff mean: 0.7113\n",
      "   NMAC ste:  0.00283, criticality ste:  0.01160, v_eff ste:  0.0279\n",
      "\n",
      "7, NMAC mean: 0.01400, criticality mean: 0.22330, v_eff mean: 0.6762\n",
      "   NMAC ste:  0.00526, criticality ste:  0.00921, v_eff ste:  0.0289\n",
      "\n"
     ]
    }
   ],
   "source": [
    "numSim = 500\n",
    "for i in 2:7\n",
    "    resolvedStats, unresolved_NMAC_Stats, unresolved_Timeout_Stats, avgResTime, criticality, v_eff = resRatio(;\n",
    "        CASType=:correctedClosest,\n",
    "        policyFile=\"LOWFI_mid3_maxdist_2km_nmac_150m_Discount_0.95_ActWeight_0.5_IfSample_false_PenAction_3.0_PenConflict_50.0_PenCloseness_500.0_PenNmac_7000.0_Sigma_v_5.0_alert_5.0_theta_3.0_phi_7.0_coc_3.0_2018-11-28T10\\:42\\:31.084\",\n",
    "        numAC=i,\n",
    "        numSim=numSim,\n",
    "        timeout=300,\n",
    "        correction_weight=0.09)\n",
    "   @printf(\"%d, NMAC mean: %3.5f, criticality mean: %3.5f, v_eff mean: %3.4f\\n\", \n",
    "        i, mean(unresolved_NMAC_Stats), mean(criticality), mean(v_eff))\n",
    "    @printf(\"   NMAC ste:  %3.5f, criticality ste:  %3.5f, v_eff ste:  %3.4f\\n\\n\", \n",
    "        std(unresolved_NMAC_Stats) / sqrt(numSim), std(criticality) / sqrt(numSim), std(v_eff) / sqrt(numSim))\n",
    "end\n",
    "\n",
    "# 5000:\n",
    "# 2 Success: 0.9678, NMAC: 0.0, Timeout: 0.0322, 131.96590204587724\n",
    "# 3 Success: 0.9086548071157305, NMAC: 0.0001998800719568259, Timeout: 0.09114531281231261, 140.94742630884295\n",
    "# 4 Success: 0.8075154907055766, NMAC: 0.0015990405756546072, Timeout: 0.19088546871876874, 150.50049504950496\n",
    "# 5 Success: 0.7254392971246006, NMAC: 0.002595846645367412, Timeout: 0.27196485623003197, 160.79108175061933\n",
    "# 6 Success: 0.6215784215784216, NMAC: 0.005994005994005994, Timeout: 0.3724275724275724, 167.85599485695917\n",
    "# 7 Success: 0.514, NMAC: 0.01277, Timeout: 0.474, 182.05058365758754\n",
    "\n",
    "# 2000\n",
    "# 2, NMAC mean: 0.00000, criticality mean: NaN, v_eff mean: 0.9409\n",
    "#    NMAC ste:  0.00000, criticality ste:  NaN, v_eff ste:  0.0069\n",
    "\n",
    "# 3, NMAC mean: 0.00000, criticality mean: NaN, v_eff mean: 0.8560\n",
    "#    NMAC ste:  0.00000, criticality ste:  NaN, v_eff ste:  0.0104\n",
    "\n",
    "# 4, NMAC mean: 0.00000, criticality mean: NaN, v_eff mean: 0.7993\n",
    "#    NMAC ste:  0.00000, criticality ste:  NaN, v_eff ste:  0.0120\n",
    "\n",
    "# 5, NMAC mean: 0.00200, criticality mean: 0.27253, v_eff mean: 0.7562\n",
    "#    NMAC ste:  0.00100, criticality ste:  0.00472, v_eff ste:  0.0130\n",
    "\n",
    "# 6, NMAC mean: 0.00600, criticality mean: 0.16160, v_eff mean: 0.6973\n",
    "#    NMAC ste:  0.00173, criticality ste:  0.00343, v_eff ste:  0.0142\n",
    "\n",
    "# 7, NMAC mean: 0.01150, criticality mean: 0.16616, v_eff mean: 0.6748\n",
    "#    NMAC ste:  0.00246, criticality ste:  0.00384, v_eff ste:  0.01461\n"
   ]
  },
  {
   "cell_type": "code",
   "execution_count": 35,
   "metadata": {},
   "outputs": [
    {
     "name": "stdout",
     "output_type": "stream",
     "text": [
      "0.2189$\\pm$0.0804"
     ]
    }
   ],
   "source": [
    "severity = [0.14792, ]\n",
    "@printf(\"%3.4f\\$\\\\pm\\$%3.4f\", mean(severity), std(severity) / sqrt(3))"
   ]
  },
  {
   "cell_type": "markdown",
   "metadata": {},
   "source": [
    "## VICASMulti"
   ]
  },
  {
   "cell_type": "code",
   "execution_count": 19,
   "metadata": {},
   "outputs": [
    {
     "name": "stdout",
     "output_type": "stream",
     "text": [
      "2, NMAC mean: 0.00200, criticality mean: 0.28425, v_eff mean: 0.7853\n",
      "   NMAC ste:  0.00100, criticality ste:  0.00312, v_eff ste:  0.0127\n",
      "\n",
      "3, NMAC mean: 0.00850, criticality mean: 0.36645, v_eff mean: 0.6704\n",
      "   NMAC ste:  0.00205, criticality ste:  0.00443, v_eff ste:  0.0149\n",
      "\n",
      "4, NMAC mean: 0.00800, criticality mean: 0.32233, v_eff mean: 0.6152\n",
      "   NMAC ste:  0.00199, criticality ste:  0.00409, v_eff ste:  0.0157\n",
      "\n",
      "5, NMAC mean: 0.01450, criticality mean: 0.33672, v_eff mean: 0.5616\n",
      "   NMAC ste:  0.00267, criticality ste:  0.00385, v_eff ste:  0.0163\n",
      "\n",
      "6, NMAC mean: 0.02150, criticality mean: 0.30202, v_eff mean: 0.5403\n",
      "   NMAC ste:  0.00324, criticality ste:  0.00397, v_eff ste:  0.0165\n",
      "\n",
      "7, NMAC mean: 0.02500, criticality mean: 0.35619, v_eff mean: 0.5145\n",
      "   NMAC ste:  0.00349, criticality ste:  0.00398, v_eff ste:  0.0167\n",
      "\n"
     ]
    }
   ],
   "source": [
    "numSim = 2000\n",
    "for i in 2:7\n",
    "    resolvedStats, unresolved_NMAC_Stats, unresolved_Timeout_Stats, avgResTime, criticality, v_eff = resRatio(;\n",
    "        CASType=:VICASMulti,\n",
    "        policyFile=\"LOWFI_mid3_maxdist_2km_nmac_150m_Discount_0.95_ActWeight_0.5_IfSample_false_PenAction_3.0_PenConflict_50.0_PenCloseness_500.0_PenNmac_7000.0_Sigma_v_5.0_alert_5.0_theta_3.0_phi_7.0_coc_3.0_2018-11-13T18\\:55\\:43.491\",\n",
    "        numAC=i,\n",
    "        numSim=numSim,\n",
    "        timeout=300)\n",
    "    @printf(\"%d, NMAC mean: %3.5f, criticality mean: %3.5f, v_eff mean: %3.4f\\n\", \n",
    "        i, mean(unresolved_NMAC_Stats), mean(criticality), mean(v_eff))\n",
    "    @printf(\"   NMAC ste:  %3.5f, criticality ste:  %3.5f, v_eff ste:  %3.4f\\n\\n\", \n",
    "        std(unresolved_NMAC_Stats) / sqrt(numSim), std(criticality) / sqrt(numSim), std(v_eff) / sqrt(numSim))\n",
    "end\n",
    "\n",
    "# 5000:\n",
    "# 2 Success: 0.904, NMAC: 0.003, Timeout: 0.093, 130.85619469026548\n",
    "# 3 Success: 0.7468, NMAC: 0.0066, Timeout: 0.2466, 140.3288698446706\n",
    "# 4 Success: 0.609878024395121, NMAC: 0.009998000399920015, Timeout: 0.380123975204959, 153.46327868852458\n",
    "# 5 Success: 0.4646282973621103, NMAC: 0.015787370103916867, Timeout: 0.5195843325339728, 166.51827956989248\n",
    "# 6 Success: 0.3393285371702638, NMAC: 0.016386890487609912, Timeout: 0.6442845723421263, 180.1849234393404\n",
    "# 7 Success: 0.26564061563062163, NMAC: 0.020787527483509895, Timeout: 0.7135718568858684, 193.63355906696765\n",
    "\n",
    "# 2 Success: 0.878, NMAC: 0.002, Timeout: 0.12, criticality: 0.017225585439100355, v_eff: 0.7491982369362135\n",
    "# 3 Success: 0.756, NMAC: 0.010, Timeout: 0.23, criticality: 0.35944105648951785,  v_eff: 0.6911595849378005\n",
    "# 4 Success: 0.596, NMAC: 0.014, Timeout: 0.39, criticality: 0.3254845966251286,   v_eff: 0.5993915292673624\n",
    "# 5 Success: 0.436, NMAC: 0.024, Timeout: 0.540, criticality: 0.3077960396516148,  v_eff: 0.5729581121604306\n",
    "# 6 Success: 0.336, NMAC: 0.028, Timeout: 0.636, criticality: 0.24641247304763328, v_eff: 0.5263600476256053\n",
    "# 7 Success: 0.232, NMAC: 0.014, Timeout: 0.754, criticality: 0.28661646037478494, v_eff: 0.5001584219407164\n"
   ]
  },
  {
   "cell_type": "code",
   "execution_count": 31,
   "metadata": {},
   "outputs": [
    {
     "name": "stdout",
     "output_type": "stream",
     "text": [
      "0.3280$\\pm$0.0129"
     ]
    }
   ],
   "source": [
    "severity = [0.28425, 0.36645, 0.32233, 0.33672, 0.30202, 0.35619]\n",
    "@printf(\"%3.4f\\$\\\\pm\\$%3.4f\", mean(severity), std(severity) / sqrt(6))"
   ]
  },
  {
   "cell_type": "markdown",
   "metadata": {},
   "source": [
    "## VICASClosest"
   ]
  },
  {
   "cell_type": "code",
   "execution_count": 20,
   "metadata": {},
   "outputs": [
    {
     "name": "stdout",
     "output_type": "stream",
     "text": [
      "2, NMAC mean: 0.00300, criticality mean: 0.28190, v_eff mean: 0.7770\n",
      "   NMAC ste:  0.00122, criticality ste:  0.00394, v_eff ste:  0.0129\n",
      "\n",
      "3, NMAC mean: 0.02700, criticality mean: 0.19459, v_eff mean: 0.7436\n",
      "   NMAC ste:  0.00363, criticality ste:  0.00361, v_eff ste:  0.0134\n",
      "\n",
      "4, NMAC mean: 0.13600, criticality mean: 0.17790, v_eff mean: 0.7007\n",
      "   NMAC ste:  0.00767, criticality ste:  0.00349, v_eff ste:  0.0142\n",
      "\n",
      "5, NMAC mean: 0.28775, criticality mean: 0.18493, v_eff mean: 0.6744\n",
      "   NMAC ste:  0.01018, criticality ste:  0.00346, v_eff ste:  0.0147\n",
      "\n",
      "6, NMAC mean: 0.48200, criticality mean: 0.18649, v_eff mean: 0.6792\n",
      "   NMAC ste:  0.01127, criticality ste:  0.00339, v_eff ste:  0.0145\n",
      "\n",
      "7, NMAC mean: 0.69200, criticality mean: 0.18451, v_eff mean: 0.7259\n",
      "   NMAC ste:  0.01096, criticality ste:  0.00338, v_eff ste:  0.0136\n",
      "\n"
     ]
    }
   ],
   "source": [
    "numSim = 2000\n",
    "for i in 2:7\n",
    "    resolvedStats, unresolved_NMAC_Stats, unresolved_Timeout_Stats, avgResTime, criticality, v_eff = resRatio(;\n",
    "        CASType=:VICASClosest,\n",
    "        policyFile=\"LOWFI_mid3_maxdist_2km_nmac_150m_Discount_0.95_ActWeight_0.5_IfSample_false_PenAction_3.0_PenConflict_50.0_PenCloseness_500.0_PenNmac_7000.0_Sigma_v_5.0_alert_5.0_theta_3.0_phi_7.0_coc_3.0_2018-11-13T18\\:55\\:43.491\",\n",
    "        numAC=i,\n",
    "        numSim=numSim,\n",
    "        timeout=300)\n",
    "    @printf(\"%d, NMAC mean: %3.5f, criticality mean: %3.5f, v_eff mean: %3.4f\\n\", \n",
    "        i, mean(unresolved_NMAC_Stats), mean(criticality), mean(v_eff))\n",
    "    @printf(\"   NMAC ste:  %3.5f, criticality ste:  %3.5f, v_eff ste:  %3.4f\\n\\n\", \n",
    "        std(unresolved_NMAC_Stats) / sqrt(numSim), std(criticality) / sqrt(numSim), std(v_eff) / sqrt(numSim))\n",
    "end\n",
    "\n",
    "# 2 Success: 0.9694, NMAC: 0.0026, Timeout: 0.028, 71.12894573963277\n",
    "# 3 Success: 0.92,   NMAC: 0.0114, Timeout: 0.0686, 77.06369565217392\n",
    "# 4 Success: 0.858,  NMAC: 0.0272, Timeout: 0.1148, 81.34965034965035\n",
    "# 5 Success: 0.7822, NMAC: 0.04618152738904438, Timeout: 0.171531387445022, 85.38538205980066\n",
    "# 6 Success: 0.6862, NMAC: 0.07633892885691447, Timeout: 0.23741007194244604, 89.34274898078043\n",
    "# 7 Success: 0.5855, NMAC: 0.11875249900039984, Timeout: 0.2956817273090764, 93.02116763400478\n",
    "\n",
    "# 2 Success: 0.897, NMAC: 0.00467, Timeout: 0.09833333333333333, criticality: 0.3535993917100006,  v_eff: 0.780314586740434\n",
    "# 3 Success: 0.767, NMAC: 0.03033, Timeout: 0.20233333333333334, criticality: 0.15383656149034758, v_eff: 0.7206877536402053\n",
    "# 4 Success: 0.589, NMAC: 0.12929, Timeout: 0.28157280906364546, criticality: 0.1811149516785675,  v_eff: 0.6870598436266655\n",
    "# 5 Success: 0.383, NMAC: 0.28429, Timeout: 0.3325565912117177, criticality: 0.17848213438213578,  v_eff: 0.6786555395889363\n"
   ]
  },
  {
   "cell_type": "code",
   "execution_count": 32,
   "metadata": {},
   "outputs": [
    {
     "name": "stdout",
     "output_type": "stream",
     "text": [
      "0.2017$\\pm$0.0162"
     ]
    }
   ],
   "source": [
    "severity = [0.28190, 0.19459, 0.17790, 0.18493, 0.18649, 0.18451]\n",
    "@printf(\"%3.4f\\$\\\\pm\\$%3.4f\", mean(severity), std(severity) / sqrt(6))"
   ]
  },
  {
   "cell_type": "code",
   "execution_count": null,
   "metadata": {},
   "outputs": [],
   "source": []
  }
 ],
 "metadata": {
  "kernelspec": {
   "display_name": "Julia 0.6.4",
   "language": "julia",
   "name": "julia-0.6"
  },
  "language_info": {
   "file_extension": ".jl",
   "mimetype": "application/julia",
   "name": "julia",
   "version": "0.6.4"
  }
 },
 "nbformat": 4,
 "nbformat_minor": 2
}
